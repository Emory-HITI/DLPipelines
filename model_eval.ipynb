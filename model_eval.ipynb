{
 "cells": [
  {
   "cell_type": "markdown",
   "metadata": {},
   "source": [
    "# Evaluate Model "
   ]
  },
  {
   "cell_type": "code",
   "execution_count": 1,
   "metadata": {},
   "outputs": [
    {
     "name": "stderr",
     "output_type": "stream",
     "text": [
      "Seed set to 5566\n"
     ]
    }
   ],
   "source": [
    "import os\n",
    "import itertools\n",
    "from functools import partial\n",
    "from concurrent.futures import ProcessPoolExecutor\n",
    "from typing import List\n",
    "from typing_extensions import override\n",
    "\n",
    "import numpy as np \n",
    "import pandas as pd \n",
    "import matplotlib.pyplot as plt\n",
    "\n",
    "import torch\n",
    "from torch import nn\n",
    "from torch.nn import functional as F\n",
    "from torch.utils.data import DataLoader\n",
    "\n",
    "import lightning as pl\n",
    "from lightning.pytorch.callbacks import ModelCheckpoint, LearningRateMonitor, EarlyStopping, RichProgressBar\n",
    "from lightning.pytorch.loggers import WandbLogger\n",
    "\n",
    "import subprocess\n",
    "import timm\n",
    "\n",
    "from tqdm import tqdm\n",
    "\n",
    "import monai as mn\n",
    "from transforms.Transform4ClassifierBase import Transform4ClassifierBase\n",
    "from models.ClassifierBase import Classifier\n",
    "\n",
    "SEED = 5566\n",
    "pl.seed_everything(SEED)\n",
    "torch.set_float32_matmul_precision('medium')"
   ]
  },
  {
   "cell_type": "code",
   "execution_count": 2,
   "metadata": {},
   "outputs": [],
   "source": [
    "def get_data_dict_part(df_part):\n",
    "    \"Important! Modify this function\"\n",
    "    \n",
    "    BASE_PATH = #edit\n",
    "    LABEL_COLUMN_NAME = #edit\n",
    "    IMG_PATH_COLUMN_NAME = # edit\n",
    "    \n",
    "    data_dict = list()\n",
    "    for i in tqdm(range(len(df_part)), desc=\"Processing part\"):\n",
    "        row = df_part.iloc[i]\n",
    "\n",
    "        data_dict.append({\n",
    "            'img':f'{BASE_PATH}/'+row[f\"{IMG_PATH_COLUMN_NAME}\"],\n",
    "            \"paths\": f'{BASE_PATH}/'+row[f\"{IMG_PATH_COLUMN_NAME}\"]\n",
    "        })\n",
    "    \n",
    "    return data_dict\n",
    "\n",
    "def get_data_dict(df, num_cores=2):\n",
    "    parts = np.array_split(df, num_cores)\n",
    "    func = partial(get_data_dict_part)\n",
    "    \n",
    "    with ProcessPoolExecutor(num_cores) as executor:\n",
    "        data_dicts = executor.map(func, parts)\n",
    "    \n",
    "    return list(itertools.chain(*data_dicts))"
   ]
  },
  {
   "cell_type": "markdown",
   "metadata": {},
   "source": [
    "### Set parameters"
   ]
  },
  {
   "cell_type": "code",
   "execution_count": 3,
   "metadata": {},
   "outputs": [],
   "source": [
    "# IMPORTANT BEFORE PROCEEDING --> DO YOU WANT TO DELETE CACHE???\n",
    "DELETE_CACHE = False\n",
    "\n",
    "INPUT = './Test.csv' #edit\n",
    "\n",
    "TIMM_MODEL = \"hf-hub:timm/convnext_base.fb_in22k_ft_in1k\"\n",
    "\n",
    "PROJECT =  #edit\n",
    "TEST_NAME =  #edit\n",
    "MONAI_CACHE_DIR = f'./cache/{TEST_NAME}/eval' #edit\n",
    "IMG_SIZE = 256 #edit\n",
    "BATCH_SIZE = 64 #edit\n",
    "PRECISION = 'bf16-mixed' \n",
    "WEIGHT_PATH = './weights/xxx.ckpt' #edit\n",
    "\n",
    "os.environ['CUDA_LAUNCH_BLOCKING'] = \"1\"\n",
    "os.environ[\"CUDA_VISIBLE_DEVICES\"] = '0' #edit"
   ]
  },
  {
   "cell_type": "code",
   "execution_count": 4,
   "metadata": {},
   "outputs": [
    {
     "name": "stdout",
     "output_type": "stream",
     "text": [
      "MONAI's /home/fli40/Data/Frank/cache/Laterality/eval cache directory removed successfully!\n"
     ]
    }
   ],
   "source": [
    "if DELETE_CACHE:\n",
    "    if os.path.exists(MONAI_CACHE_DIR):\n",
    "        subprocess.call(['rm', '-rf', f'{MONAI_CACHE_DIR}'])\n",
    "        print(f\"MONAI's {MONAI_CACHE_DIR} cache directory removed successfully!\")\n",
    "    else:\n",
    "        print(f\"MONAI's {MONAI_CACHE_DIR} cache directory does not exist!\")"
   ]
  },
  {
   "cell_type": "markdown",
   "metadata": {},
   "source": [
    "### Read input file"
   ]
  },
  {
   "cell_type": "code",
   "execution_count": 5,
   "metadata": {},
   "outputs": [],
   "source": [
    "df = pd.read_csv(INPUT) "
   ]
  },
  {
   "cell_type": "code",
   "execution_count": null,
   "metadata": {},
   "outputs": [],
   "source": [
    "df"
   ]
  },
  {
   "cell_type": "code",
   "execution_count": 7,
   "metadata": {},
   "outputs": [
    {
     "name": "stderr",
     "output_type": "stream",
     "text": [
      "'DataFrame.swapaxes' is deprecated and will be removed in a future version. Please use 'DataFrame.transpose' instead.\n",
      "Processing part: 100%|██████████| 126469/126469 [00:02<00:00, 42592.57it/s]\n",
      "Processing part: 100%|██████████| 126469/126469 [00:02<00:00, 42944.82it/s]\n"
     ]
    }
   ],
   "source": [
    "# Split train and val data\n",
    "\n",
    "eval_dict = get_data_dict(df)"
   ]
  },
  {
   "cell_type": "markdown",
   "metadata": {},
   "source": [
    "### Model setup"
   ]
  },
  {
   "cell_type": "code",
   "execution_count": 8,
   "metadata": {},
   "outputs": [],
   "source": [
    "# define transforms\n",
    "\n",
    "eval_transforms = Transform4ClassifierBase(IMG_SIZE).predict\n",
    "\n",
    "# define datasets\n",
    "\n",
    "eval_ds = mn.data.PersistentDataset(data=eval_dict, transform=eval_transforms, cache_dir=f\"{MONAI_CACHE_DIR}\")\n",
    "\n",
    "# define data loader\n",
    "\n",
    "eval_dl = DataLoader(eval_ds, batch_size=BATCH_SIZE, shuffle=False, num_workers=2, drop_last=False, persistent_workers=True)\n",
    "\n",
    "# instantiate the model\n",
    "\n",
    "model = Classifier(TIMM_MODEL=TIMM_MODEL, BATCH_SIZE=BATCH_SIZE, use_ema=False)"
   ]
  },
  {
   "cell_type": "code",
   "execution_count": 9,
   "metadata": {},
   "outputs": [
    {
     "name": "stderr",
     "output_type": "stream",
     "text": [
      "You are using `torch.load` with `weights_only=False` (the current default value), which uses the default pickle module implicitly. It is possible to construct malicious pickle data which will execute arbitrary code during unpickling (See https://github.com/pytorch/pytorch/blob/main/SECURITY.md#untrusted-models for more details). In a future release, the default value for `weights_only` will be flipped to `True`. This limits the functions that could be executed during unpickling. Arbitrary objects will no longer be allowed to be loaded via this mode unless they are explicitly allowlisted by the user via `torch.serialization.add_safe_globals`. We recommend you start setting `weights_only=True` for any use case where you don't have full control of the loaded file. Please open an issue on GitHub for any issues related to this experimental feature.\n"
     ]
    },
    {
     "data": {
      "text/plain": [
       "<All keys matched successfully>"
      ]
     },
     "execution_count": 9,
     "metadata": {},
     "output_type": "execute_result"
    }
   ],
   "source": [
    "# Load checkpoint\n",
    "\n",
    "ckpt = torch.load(WEIGHT_PATH)['state_dict']\n",
    "model.load_state_dict(ckpt)"
   ]
  },
  {
   "cell_type": "code",
   "execution_count": null,
   "metadata": {},
   "outputs": [],
   "source": [
    "# SPOT CHECK\n",
    "test_ds=mn.data.Dataset(data=eval_dict, transform=eval_transforms)\n",
    "\n",
    "for _ in range(3):\n",
    "    random_i = np.random.randint(0, len(test_ds))\n",
    "    for data_ in test_ds[random_i:random_i+1]:\n",
    "        \n",
    "        print(f\"{data_['paths']}\")\n",
    "        plt.imshow(np.flipud(np.rot90(np.squeeze(np.array(data_['img'])))), cmap='gray')\n",
    "        plt.show()"
   ]
  },
  {
   "cell_type": "markdown",
   "metadata": {},
   "source": [
    "### Define Callbacks"
   ]
  },
  {
   "cell_type": "code",
   "execution_count": 11,
   "metadata": {},
   "outputs": [],
   "source": [
    "progress_bar = RichProgressBar()"
   ]
  },
  {
   "cell_type": "markdown",
   "metadata": {},
   "source": [
    "### Evaluation"
   ]
  },
  {
   "cell_type": "code",
   "execution_count": 12,
   "metadata": {},
   "outputs": [
    {
     "name": "stderr",
     "output_type": "stream",
     "text": [
      "GPU available: True (cuda), used: True\n",
      "TPU available: False, using: 0 TPU cores\n",
      "HPU available: False, using: 0 HPUs\n",
      "Starting from v1.9.0, `tensorboardX` has been removed as a dependency of the `lightning.pytorch` package, due to potential conflicts with other packages in the ML ecosystem. For this reason, `logger=True` will use `CSVLogger` as the default logger, unless the `tensorboard` or `tensorboardX` packages are found. Please `pip install lightning[extra]` or one of them to enable TensorBoard support by default\n"
     ]
    }
   ],
   "source": [
    "# instantiate trainer\n",
    "\n",
    "trainer = pl.Trainer(callbacks=[progress_bar], inference_mode=True)"
   ]
  },
  {
   "cell_type": "code",
   "execution_count": null,
   "metadata": {
    "scrolled": true,
    "tags": []
   },
   "outputs": [
    {
     "name": "stderr",
     "output_type": "stream",
     "text": [
      "LOCAL_RANK: 0 - CUDA_VISIBLE_DEVICES: [2]\n"
     ]
    },
    {
     "data": {
      "application/vnd.jupyter.widget-view+json": {
       "model_id": "a6c5927e57a744d897f5d68371c102f8",
       "version_major": 2,
       "version_minor": 0
      },
      "text/plain": [
       "Output()"
      ]
     },
     "metadata": {},
     "output_type": "display_data"
    },
    {
     "name": "stderr",
     "output_type": "stream",
     "text": [
      "Divide by zero (a_min == a_max)\n"
     ]
    }
   ],
   "source": [
    "# evaluate the model\n",
    "\n",
    "predictions = trainer.predict(model, dataloaders=eval_dl)"
   ]
  },
  {
   "cell_type": "code",
   "execution_count": null,
   "metadata": {},
   "outputs": [],
   "source": [
    "df_prediction = pd.concat(predictions)\n",
    "df_prediction.to_csv('./results/test_results.csv', index=False)"
   ]
  },
  {
   "cell_type": "code",
   "execution_count": null,
   "metadata": {},
   "outputs": [],
   "source": []
  }
 ],
 "metadata": {
  "kernelspec": {
   "display_name": "lightning",
   "language": "python",
   "name": "lightning"
  },
  "language_info": {
   "codemirror_mode": {
    "name": "ipython",
    "version": 3
   },
   "file_extension": ".py",
   "mimetype": "text/x-python",
   "name": "python",
   "nbconvert_exporter": "python",
   "pygments_lexer": "ipython3",
   "version": "3.10.13"
  }
 },
 "nbformat": 4,
 "nbformat_minor": 4
}
